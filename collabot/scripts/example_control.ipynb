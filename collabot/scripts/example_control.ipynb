{
 "cells": [
  {
   "cell_type": "code",
   "execution_count": 1,
   "metadata": {},
   "outputs": [
    {
     "name": "stdout",
     "output_type": "stream",
     "text": [
      "Jupyter environment detected. Enabling Open3D WebVisualizer.\n",
      "[Open3D INFO] WebRTC GUI backend enabled.\n",
      "[Open3D INFO] WebRTCWindowSystem: HTTP handshake server disabled.\n"
     ]
    }
   ],
   "source": [
    "from util.robot_control import RobotControl\n",
    "from util.tf_manager import tf_manager\n",
    "import rospy\n",
    "from scipy.spatial.transform import Rotation as R\n",
    "import numpy as np\n",
    "import os\n"
   ]
  },
  {
   "cell_type": "code",
   "execution_count": 2,
   "metadata": {},
   "outputs": [],
   "source": [
    "#init ros\n",
    "rospy.init_node(\"main_control\",anonymous=True)\n",
    "\n",
    "\n",
    "robot_list = [\"robot1\"]\n",
    "\n",
    "# obj_list = [\"table\"]\n",
    "# obj_list = [\"cafe_table\"]\n",
    "\n",
    "# obj_list = [\"chair\"]\n",
    "# obj_list = [\"chair\"]\n",
    "obj_list = []\n",
    "swarm_control = RobotControl(robot_list)\n",
    "\n",
    "tf_instance = tf_manager(robot_list,obj_list)"
   ]
  },
  {
   "cell_type": "code",
   "execution_count": 3,
   "metadata": {},
   "outputs": [],
   "source": [
    "from util.get_image import get_image\n",
    "\n",
    "robot_images = get_image(robot_list)\n"
   ]
  },
  {
   "cell_type": "code",
   "execution_count": 9,
   "metadata": {},
   "outputs": [
    {
     "name": "stdout",
     "output_type": "stream",
     "text": [
      "success save image\n"
     ]
    },
    {
     "ename": "",
     "evalue": "",
     "output_type": "error",
     "traceback": [
      "\u001b[1;31m在当前单元格或上一个单元格中执行代码时 Kernel 崩溃。\n",
      "\u001b[1;31m请查看单元格中的代码，以确定故障的可能原因。\n",
      "\u001b[1;31m单击<a href='https://aka.ms/vscodeJupyterKernelCrash'>此处</a>了解详细信息。\n",
      "\u001b[1;31m有关更多详细信息，请查看 Jupyter <a href='command:jupyter.viewOutput'>log</a>。"
     ]
    }
   ],
   "source": [
    "def get_next_img_index(directory):\n",
    "    existing_files = os.listdir(directory)\n",
    "    now_index = '1'\n",
    "    for fname in existing_files:\n",
    "        if \"robot1_rgb\" in fname:\n",
    "            max_index = fname.split('_')[-1].split('.')[0][3:]\n",
    "            if int(max_index) >= int(now_index):\n",
    "                now_index = str(int(max_index) + 1) \n",
    "\n",
    "    \n",
    "    return now_index\n",
    "\n",
    "now_dir = \"./\"\n",
    "\n",
    "img_index = get_next_img_index(now_dir)\n",
    "\n",
    "robot_images.write_image(robot_list[0],now_dir,img_index)\n",
    "now_K_inv = tf_instance.get_cam_K_inv(robot_list[0])\n",
    "#same np array\n",
    "np.save(now_dir + f'{robot_list[0]}_K_inv{img_index}.npy',now_K_inv)"
   ]
  },
  {
   "cell_type": "code",
   "execution_count": null,
   "metadata": {},
   "outputs": [],
   "source": [
    "# img_index = '1' #start from 1\n",
    "# file_path = 'like_real'\n",
    "# robot_images.write_image(robot_list[0],f'../example/{file_path}/',img_index)\n",
    "# now_K_inv = tf_instance.get_cam_K_inv(robot_list[0])\n",
    "# #same np array\n",
    "# np.save(f'../example/{file_path}/{robot_list[0]}_K_inv{img_index}.npy',now_K_inv)\n"
   ]
  },
  {
   "cell_type": "code",
   "execution_count": null,
   "metadata": {},
   "outputs": [],
   "source": [
    "now_K_inv = tf_instance.get_cam_K_inv(robot_list[0])\n",
    "print(now_K_inv)\n",
    "# print(tf_instance.object_pose_dict[robot_list[0]])\n",
    "# print(tf_instance.get_robot_ee_pose(robot_list[0]) )\n",
    "# print(tf_instance.T_ee_2_cam )"
   ]
  },
  {
   "cell_type": "code",
   "execution_count": null,
   "metadata": {},
   "outputs": [],
   "source": [
    "#robot move left\n",
    "swarm_control.base_v(robot_list[0],[0.0,-0.2,0.0])"
   ]
  },
  {
   "cell_type": "code",
   "execution_count": null,
   "metadata": {},
   "outputs": [],
   "source": [
    "#robot move forward\n",
    "swarm_control.base_v(robot_list[0],[0.1,0,0.0])"
   ]
  },
  {
   "cell_type": "code",
   "execution_count": null,
   "metadata": {},
   "outputs": [],
   "source": [
    "#rotate\n",
    "swarm_control.base_v(robot_list[0],[-0.0,0,0.2])"
   ]
  },
  {
   "cell_type": "code",
   "execution_count": null,
   "metadata": {},
   "outputs": [],
   "source": [
    "#stop the robot\n",
    "swarm_control.base_v(robot_list[0],[0.0,0,0])"
   ]
  },
  {
   "cell_type": "code",
   "execution_count": null,
   "metadata": {},
   "outputs": [],
   "source": [
    "#低头拍照\n",
    "swarm_control.arm_pose(robot_list[0],[0, 1, 0, 0, 0, 0])"
   ]
  },
  {
   "cell_type": "code",
   "execution_count": null,
   "metadata": {},
   "outputs": [],
   "source": [
    "swarm_control.arm_pose(robot_list[0],[1, 1e-3, 0, 0, 0, 1])"
   ]
  },
  {
   "cell_type": "code",
   "execution_count": 4,
   "metadata": {},
   "outputs": [],
   "source": [
    "arm3_pose = 0.5\n",
    "swarm_control.arm_pose(robot_list[0],[3.14,1.57,-arm3_pose,0.0,0.3,arm3_pose])"
   ]
  },
  {
   "cell_type": "code",
   "execution_count": null,
   "metadata": {},
   "outputs": [],
   "source": [
    "swarm_control.gripper_pose(robot_list[0],0)"
   ]
  },
  {
   "cell_type": "code",
   "execution_count": null,
   "metadata": {},
   "outputs": [],
   "source": [
    "tf_instance.add_grasp(robot_list[0],obj_list[0])"
   ]
  }
 ],
 "metadata": {
  "kernelspec": {
   "display_name": "roco",
   "language": "python",
   "name": "python3"
  },
  "language_info": {
   "codemirror_mode": {
    "name": "ipython",
    "version": 3
   },
   "file_extension": ".py",
   "mimetype": "text/x-python",
   "name": "python",
   "nbconvert_exporter": "python",
   "pygments_lexer": "ipython3",
   "version": "3.8.20"
  }
 },
 "nbformat": 4,
 "nbformat_minor": 2
}
