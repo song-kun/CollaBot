{
 "cells": [
  {
   "cell_type": "code",
   "execution_count": 8,
   "metadata": {},
   "outputs": [],
   "source": [
    "import os\n",
    "import sys\n",
    "import numpy as np\n",
    "current_path = os.getcwd()\n",
    "\n",
    "sys.path.append(os.path.join(current_path,'../motion_planning'))\n",
    "\n",
    "\n",
    "from motion_planning import motion_planner_agv\n",
    "from agv_kinematics import agv_arm,Jaka_FK\n",
    "\n",
    "from jaka_IK import get_DH_matrix_JAKA_ZU7,forward_kinematic_DH_solution,inverse_kinematic_DH_solution,JAKA_inverse_kinematic_DH_solution,get_DH_matrix_JAKA_ZU7_ur\n"
   ]
  },
  {
   "cell_type": "code",
   "execution_count": 9,
   "metadata": {},
   "outputs": [
    {
     "name": "stdout",
     "output_type": "stream",
     "text": [
      "[[ 3.14        2.240158   -2.179694    1.983942    1.634298    1.492484  ]\n",
      " [ 3.14        0.3839884   2.179694   -0.5192764   1.634298    1.492484  ]\n",
      " [ 3.14        1.62251331 -1.47477888 -1.24492109 -1.634298   -1.64910865]\n",
      " [ 3.14        0.30212104  1.47477888 -2.87408657 -1.634298   -1.64910865]\n",
      " [ 1.30841416  2.90142051 -1.52907292 -0.07591349  1.96671537 -0.5855818 ]\n",
      " [ 1.30841416  1.53533314  1.52907292 -1.76797198  1.96671537 -0.5855818 ]\n",
      " [ 1.30841416  2.69658362 -2.11507942 -2.42666276 -1.96671537  2.55601085]\n",
      " [ 1.30841416  0.88139428  2.11507942  1.44155305 -1.96671537  2.55601085]]\n"
     ]
    }
   ],
   "source": [
    "from math import pi\n",
    "class jaka_zu7_IK():\n",
    "    def __init__(self):\n",
    "        self.DH_matrix_JAKA_ZU7 = get_DH_matrix_JAKA_ZU7()\n",
    "        self.DH_matrix_JAKA_ZU7_ur = get_DH_matrix_JAKA_ZU7_ur()\n",
    "        self.lower_bound = np.array([-3.14,-3.14,-3.14,-3.14,-6.28,-6.28])\n",
    "        self.upper_bound = -np.array([-3.14,-3.14,-3.14,-3.14,-6.28,-6.28])\n",
    "    \n",
    "    def FK_JAKA(self, q):\n",
    "        return forward_kinematic_DH_solution(self.DH_matrix_JAKA_ZU7, q)\n",
    "    \n",
    "    def IK(self, T_0_6):\n",
    "        q_list = []\n",
    "\n",
    "        res = JAKA_inverse_kinematic_DH_solution(self.DH_matrix_JAKA_ZU7, self.DH_matrix_JAKA_ZU7_ur, T_0_6)\n",
    "        for next_q in res.T:\n",
    "            trans_ = self.FK_JAKA(next_q)\n",
    "            error = np.linalg.norm(trans_-T_0_6)\n",
    "            if error < 1e-6:\n",
    "                q_list.append(next_q)\n",
    "                #do not exceed the bound\n",
    "                for i in range(6):\n",
    "                    if next_q[i] > self.upper_bound[i]:\n",
    "                        next_q[i] = self.upper_bound[i]\n",
    "                    elif next_q[i] < self.lower_bound[i]:\n",
    "                        next_q[i] = self.lower_bound[i]\n",
    "        return np.array(q_list)\n",
    "        \n",
    "\n",
    "\n",
    "ed = np.asarray([3.315783, 2.240158, -2.179694, 1.983942, 1.634298, 1.492484])\n",
    "# ed = np.asarray([3.315783, 2.240158, 1, 1.983942, 1.634298, 0.01])\n",
    "# ed = np.asarray([0,0,0,0,0,0.0])\n",
    "\n",
    "\n",
    "jaka_ik_cal = jaka_zu7_IK()\n",
    "T_0_6J = jaka_ik_cal.FK_JAKA(ed)\n",
    "qs = jaka_ik_cal.IK(T_0_6J)\n",
    "print(qs)\n"
   ]
  },
  {
   "cell_type": "code",
   "execution_count": 11,
   "metadata": {},
   "outputs": [
    {
     "name": "stdout",
     "output_type": "stream",
     "text": [
      "[[ 1.00000000e+00  0.00000000e+00  0.00000000e+00  8.03030000e-01]\n",
      " [ 0.00000000e+00  1.10196153e-05 -1.00000000e+00  9.51958309e-03]\n",
      " [ 0.00000000e+00  1.00000000e+00  1.10196153e-05  2.03150888e-01]\n",
      " [ 0.00000000e+00  0.00000000e+00  0.00000000e+00  1.00000000e+00]]\n",
      "5416\n"
     ]
    }
   ],
   "source": [
    "import copy\n",
    "#agv arm IK\n",
    "now_agv_arm = agv_arm()\n",
    "q = np.array([0,0,0, 1, 1, 1, 0, 0, 1])\n",
    "q = np.array([0,0,0, 0, 0, 0, 0, 0, 0])\n",
    "T_fk = now_agv_arm.FK(q)\n",
    "# now_agv_arm.vis_collision()\n",
    "\n",
    "#----\n",
    "target_pose = copy.deepcopy(T_fk[8])\n",
    "print(target_pose)\n",
    "\n",
    "possible_q_list = []\n",
    "working_space = 0.6\n",
    "n_point = 10\n",
    "x_points = np.linspace(-working_space,working_space,n_point) + target_pose[0,3]\n",
    "y_points = np.linspace(-working_space,working_space,n_point) + target_pose[1,3]\n",
    "rot_points = np.linspace(-pi,pi,n_point)\n",
    "\n",
    "T_agv_2_arm = now_agv_arm.T_agv_2_arm\n",
    "\n",
    "for now_x in x_points:\n",
    "    for now_y in y_points:\n",
    "        for now_theta in rot_points:\n",
    "            now_q = [0 for i in range(9)]\n",
    "            now_q[0:2] = [now_x,now_y]\n",
    "            now_q[2] = now_theta\n",
    "            T_fk = now_agv_arm.FK(now_q)\n",
    "            arm_T_06 = np.linalg.inv(T_fk[2] @ T_agv_2_arm) @ target_pose\n",
    "            qs = jaka_ik_cal.IK(arm_T_06)\n",
    "            for next_q in qs:\n",
    "                now_q[3:] = next_q\n",
    "                possible_q_list.append(copy.deepcopy(now_q))\n",
    "\n",
    "print(len(possible_q_list))\n"
   ]
  },
  {
   "cell_type": "code",
   "execution_count": 21,
   "metadata": {},
   "outputs": [
    {
     "name": "stdout",
     "output_type": "stream",
     "text": [
      "min residual 0.0015079819903861924\n",
      "[[-1.36300971e-11  6.43545837e-11  5.22105178e-06  1.09191398e-03]\n",
      " [-1.10515804e-10 -3.90859567e-11  8.84141187e-06  1.03986888e-03]\n",
      " [-5.22105178e-06 -8.84141188e-06 -5.27152766e-11  1.39781594e-05]\n",
      " [ 0.00000000e+00  0.00000000e+00  0.00000000e+00  0.00000000e+00]]\n"
     ]
    }
   ],
   "source": [
    "residual_list = []\n",
    "rot_angle_list = []\n",
    "for i in range(len(possible_q_list)):\n",
    "    T_fk = now_agv_arm.FK(possible_q_list[i])\n",
    "    residual = np.linalg.norm(T_fk[-1] @ np.linalg.inv(target_pose) - np.eye(4))\n",
    "    residual_list.append(residual)\n",
    "\n",
    "    rot_angle_list.append(np.sum(np.abs(possible_q_list[i][3:])))\n",
    "\n",
    "residual_list = np.array(residual_list)\n",
    "rot_angle_list = np.array(rot_angle_list)\n",
    "th_error = 0.01\n",
    "possible_index = np.where(residual_list < th_error)[0]\n",
    "\n",
    "min_index = possible_index[np.argmin(rot_angle_list[possible_index])]\n",
    "# min_index=  np.argmin(rot_angle_list)\n",
    "print(f\"min residual {residual_list[min_index]}\")\n",
    "T_fk = now_agv_arm.FK(possible_q_list[min_index])\n",
    "print(T_fk[-1] @ np.linalg.inv(target_pose) - np.eye(4))\n",
    "now_agv_arm.vis_collision()\n",
    "\n",
    "\n",
    "\n",
    "    "
   ]
  }
 ],
 "metadata": {
  "kernelspec": {
   "display_name": "roco",
   "language": "python",
   "name": "python3"
  },
  "language_info": {
   "codemirror_mode": {
    "name": "ipython",
    "version": 3
   },
   "file_extension": ".py",
   "mimetype": "text/x-python",
   "name": "python",
   "nbconvert_exporter": "python",
   "pygments_lexer": "ipython3",
   "version": "3.8.20"
  }
 },
 "nbformat": 4,
 "nbformat_minor": 2
}
